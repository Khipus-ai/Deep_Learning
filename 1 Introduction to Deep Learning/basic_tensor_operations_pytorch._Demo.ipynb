{
 "cells": [
  {
   "cell_type": "markdown",
   "id": "f98b9077",
   "metadata": {},
   "source": [
    "\n",
    "# Khipus.ai  \n",
    "## Basic Tensor Operations  \n",
    "### Demo  \n",
    "<span>© Copyright Notice 2025, Khipus.ai - All Rights Reserved.</span>  \n",
    "\n",
    "This notebook demonstrates basic tensor operations using **PyTorch**.  \n",
    "We will cover various fundamental operations on tensors, including arithmetic operations and reductions (also known as aggregation operations)\n"
   ]
  },
  {
   "cell_type": "code",
   "execution_count": 2,
   "id": "36a05dcc",
   "metadata": {},
   "outputs": [],
   "source": [
    "\n",
    "import torch\n"
   ]
  },
  {
   "cell_type": "code",
   "execution_count": null,
   "id": "57f89596",
   "metadata": {},
   "outputs": [],
   "source": [
    "\n",
    "# Define tensor constants\n",
    "a = torch.tensor(2)# tensor rank 0\n",
    "b = torch.tensor(3)# tensor rank 0\n",
    "c = torch.tensor(5)# tensor rank 0\n"
   ]
  },
  {
   "cell_type": "code",
   "execution_count": 3,
   "id": "86371100",
   "metadata": {},
   "outputs": [
    {
     "name": "stdout",
     "output_type": "stream",
     "text": [
      "add = 5\n",
      "sub = -1\n",
      "mul = 6\n",
      "div = 0.6666666865348816\n"
     ]
    }
   ],
   "source": [
    "\n",
    "# Various tensor operations using PyTorch\n",
    "# Note: PyTorch tensors also support Python operators (+, *, ...)\n",
    "\n",
    "add = a + b\n",
    "sub = a - b\n",
    "mul = a * b\n",
    "div = a / b\n",
    "\n",
    "# Print results\n",
    "print(\"add =\", add.item())\n",
    "print(\"sub =\", sub.item())\n",
    "print(\"mul =\", mul.item())\n",
    "print(\"div =\", div.item())\n"
   ]
  },
  {
   "cell_type": "code",
   "execution_count": 4,
   "id": "02547253",
   "metadata": {},
   "outputs": [
    {
     "name": "stdout",
     "output_type": "stream",
     "text": [
      "mean = 3.3333332538604736\n",
      "sum = 10\n"
     ]
    }
   ],
   "source": [
    "\n",
    "# Reduction operations (also known as aggregation operations) in PyTorch\n",
    "\n",
    "mean = torch.mean(torch.tensor([a, b, c], dtype=torch.float32)) #Computes the mean (average) of all elements in the input tensor.\n",
    "sum = torch.sum(torch.tensor([a, b, c])) #Computes the sum of all elements in the input tensor.\n",
    "#These functions are commonly used in machine learning for statistics and loss calculations.\n",
    "\n",
    "# Print results\n",
    "print(\"mean =\", mean.item())\n",
    "print(\"sum =\", sum.item())\n"
   ]
  },
  {
   "cell_type": "markdown",
   "id": "366bfb6d",
   "metadata": {},
   "source": [
    "## Converting Between NumPy and PyTorch Tensors  \n",
    "PyTorch allows seamless conversion between NumPy arrays and tensors using `torch.from_numpy()` and `.numpy()`. "
   ]
  },
  {
   "cell_type": "code",
   "execution_count": 3,
   "id": "8d532b30",
   "metadata": {},
   "outputs": [
    {
     "name": "stdout",
     "output_type": "stream",
     "text": [
      "NumPy Array: [10 20 30]\n",
      "Converted Tensor: tensor([10, 20, 30], dtype=torch.int32)\n",
      "Converted Back to NumPy: [10 20 30]\n"
     ]
    }
   ],
   "source": [
    "import numpy as np\n",
    "\n",
    "# Creating a NumPy array\n",
    "np_array = np.array([10, 20, 30])\n",
    "print(\"NumPy Array:\", np_array)\n",
    "\n",
    "# Your Task: Create a NumPy array of shape (3,3), convert it to a PyTorch tensor, and then convert it back.\n",
    "# Converting NumPy array to PyTorch tensor\n",
    "torch_tensor = torch.from_numpy(np_array)\n",
    "print(\"Converted Tensor:\", torch_tensor)\n",
    "\n",
    "# Converting back to NumPy\n",
    "converted_array = torch_tensor.numpy()\n",
    "print(\"Converted Back to NumPy:\", converted_array)\n",
    "\n",
    "\n"
   ]
  }
 ],
 "metadata": {
  "kernelspec": {
   "display_name": "Python 3",
   "language": "python",
   "name": "python3"
  },
  "language_info": {
   "codemirror_mode": {
    "name": "ipython",
    "version": 3
   },
   "file_extension": ".py",
   "mimetype": "text/x-python",
   "name": "python",
   "nbconvert_exporter": "python",
   "pygments_lexer": "ipython3",
   "version": "3.11.9"
  }
 },
 "nbformat": 4,
 "nbformat_minor": 5
}
