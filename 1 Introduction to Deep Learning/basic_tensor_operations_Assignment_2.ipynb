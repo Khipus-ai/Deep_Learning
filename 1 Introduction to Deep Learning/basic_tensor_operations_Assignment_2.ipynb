{
 "cells": [
  {
   "cell_type": "markdown",
   "id": "7eb5d82c",
   "metadata": {},
   "source": [
    "# Khipus.ai  \n",
    "## Basic Tensor Operations  \n",
    "### Assignment 2  \n",
    "### Name: (add your name)  \n",
    "<span>© Copyright Notice 2025, Khipus.ai - All Rights Reserved.</span>  \n",
    "\n",
    "--------------------------------------------\n",
    "\n",
    "## Instructions  \n",
    "- Complete the following exercises using PyTorch.  \n",
    "- Read the descriptions provided before each code cell.  \n",
    "- Write your own code where prompted.  \n",
    "- Comment your code to explain its functionality.  \n",
    "- Ensure your outputs match the expected results where applicable.  \n",
    "- Submit the completed notebook.  \n",
    "\n",
    "--------------------------------------------\n",
    "\n",
    "## Learning Objectives  \n",
    "By the end of this assignment, you will be able to:  \n",
    "- Perform basic mathematical operations on tensors.   \n",
    "- Convert between NumPy arrays and PyTorch tensors.  \n"
   ]
  },
  {
   "cell_type": "markdown",
   "id": "70af6354",
   "metadata": {},
   "source": [
    "## Basic Tensor Operations  \n",
    "Perform mathematical operations on tensors, such as addition, subtraction, multiplication, and division. \n",
    "\n",
    "Expected output:\n",
    "\n",
    "Sum: tensor([5, 7, 9])\n",
    "\n",
    "Product: tensor([ 4, 10, 18])\n",
    "\n",
    "Difference: tensor([-3, -3, -3])\n",
    "\n",
    "Division: tensor([0.2500, 0.4000, 0.5000])\n"
   ]
  },
  {
   "cell_type": "code",
   "execution_count": 8,
   "id": "58aeed2c",
   "metadata": {},
   "outputs": [
    {
     "name": "stdout",
     "output_type": "stream",
     "text": [
      "Sum: tensor([5, 7, 9])\n",
      "Product: tensor([ 4, 10, 18])\n",
      "Difference: tensor([-3, -3, -3])\n",
      "Division: tensor([0.2500, 0.4000, 0.5000])\n"
     ]
    }
   ],
   "source": [
    "# Creating two tensors\n",
    "tensor_x = torch.tensor([1, 2, 3])\n",
    "tensor_y = torch.tensor([4, 5, 6])\n",
    "\n",
    "# Element-wise addition\n",
    "\n",
    "#your code here\n",
    "sum_tensor = tensor_x + tensor_y\n",
    "print(\"Sum:\", sum_tensor)\n",
    "\n",
    "# Element-wise multiplication\n",
    "#your code here\n",
    "product_tensor = tensor_x * tensor_y\n",
    "print(\"Product:\", product_tensor)\n",
    "\n",
    "# Element-wise subtraction\n",
    "#your code here\n",
    "difference_tensor = tensor_x - tensor_y\n",
    "print(\"Difference:\", difference_tensor)\n",
    "\n",
    "# Element-wise division\n",
    "#your code here\n",
    "division_tensor = tensor_x / tensor_y\n",
    "print(\"Division:\", division_tensor)\n",
    "\n",
    "# Your Task: Create two new tensors and perform matrix multiplication using torch.matmul.\n"
   ]
  },
  {
   "cell_type": "markdown",
   "id": "d527c98c",
   "metadata": {},
   "source": [
    "## Converting Between NumPy and PyTorch Tensors  \n",
    "PyTorch allows seamless conversion between NumPy arrays and tensors using `torch.from_numpy()` and `.numpy()`.  \n",
    "\n",
    "Expected Ouput:\n",
    "\n",
    "NumPy Array: [100 150 200 250 300]\n",
    "\n",
    "Converted Tensor: tensor([100, 150, 200, 250, 300], dtype=torch.int32)\n",
    "\n",
    "Converted Back to NumPy: [100 150 200 250 300]\n"
   ]
  },
  {
   "cell_type": "code",
   "execution_count": 10,
   "id": "0259b305",
   "metadata": {},
   "outputs": [
    {
     "name": "stdout",
     "output_type": "stream",
     "text": [
      "NumPy Array: [100 150 200 250 300]\n",
      "Converted Tensor: tensor([100, 150, 200, 250, 300], dtype=torch.int32)\n",
      "Converted Back to NumPy: [100 150 200 250 300]\n"
     ]
    }
   ],
   "source": [
    "import numpy as np\n",
    "# Your Task: Create a NumPy, convert it to a PyTorch tensor, and then convert it back.\n",
    "# Creating a NumPy array\n",
    "np_array = np.array([100, 150, 200, 250, 300])\n",
    "print(\"NumPy Array:\", np_array)\n",
    "\n",
    "# Converting NumPy array to PyTorch tensor\n",
    "#your code here\n",
    "torch_tensor = torch.from_numpy(np_array)\n",
    "print(\"Converted Tensor:\", torch_tensor)\n",
    "\n",
    "# Converting back to NumPy\n",
    "#your code here\n",
    "converted_array = torch_tensor.numpy()\n",
    "print(\"Converted Back to NumPy:\", converted_array)\n",
    "\n",
    "\n"
   ]
  }
 ],
 "metadata": {
  "kernelspec": {
   "display_name": "Python 3",
   "language": "python",
   "name": "python3"
  },
  "language_info": {
   "codemirror_mode": {
    "name": "ipython",
    "version": 3
   },
   "file_extension": ".py",
   "mimetype": "text/x-python",
   "name": "python",
   "nbconvert_exporter": "python",
   "pygments_lexer": "ipython3",
   "version": "3.11.9"
  }
 },
 "nbformat": 4,
 "nbformat_minor": 5
}
