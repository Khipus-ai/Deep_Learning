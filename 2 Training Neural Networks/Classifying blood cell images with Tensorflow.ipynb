{
 "cells": [
  {
   "cell_type": "markdown",
   "metadata": {},
   "source": [
    "https://medium.com/codex/classifying-blood-cell-images-with-tensorflow-e70ace0ad3ea\n",
    "\n",
    "\n",
    "Classifying blood cell images with Tensorflow\n"
   ]
  },
  {
   "cell_type": "code",
   "execution_count": 2,
   "metadata": {},
   "outputs": [
    {
     "name": "stdout",
     "output_type": "stream",
     "text": [
      "Collecting opencv-python-headlessNote: you may need to restart the kernel to use updated packages.\n"
     ]
    },
    {
     "name": "stderr",
     "output_type": "stream",
     "text": [
      "WARNING: Ignoring invalid distribution ~uart (c:\\Python311\\Lib\\site-packages)\n",
      "WARNING: Ignoring invalid distribution ~uart (c:\\Python311\\Lib\\site-packages)\n",
      "WARNING: Ignoring invalid distribution ~uart (c:\\Python311\\Lib\\site-packages)\n"
     ]
    },
    {
     "name": "stdout",
     "output_type": "stream",
     "text": [
      "\n",
      "  Downloading opencv_python_headless-4.11.0.86-cp37-abi3-win_amd64.whl.metadata (20 kB)\n",
      "Requirement already satisfied: numpy>=1.21.2 in c:\\python311\\lib\\site-packages (from opencv-python-headless) (1.26.1)\n",
      "Downloading opencv_python_headless-4.11.0.86-cp37-abi3-win_amd64.whl (39.4 MB)\n",
      "   ---------------------------------------- 0.0/39.4 MB ? eta -:--:--\n",
      "   ----- ---------------------------------- 5.8/39.4 MB 39.3 MB/s eta 0:00:01\n",
      "   ------------- -------------------------- 13.4/39.4 MB 42.0 MB/s eta 0:00:01\n",
      "   -------------- ------------------------- 13.9/39.4 MB 38.0 MB/s eta 0:00:01\n",
      "   -------------- ------------------------- 13.9/39.4 MB 38.0 MB/s eta 0:00:01\n",
      "   ----------------------- ---------------- 23.6/39.4 MB 24.1 MB/s eta 0:00:01\n",
      "   ---------------------------------------  39.3/39.4 MB 34.3 MB/s eta 0:00:01\n",
      "   ---------------------------------------  39.3/39.4 MB 34.3 MB/s eta 0:00:01\n",
      "   ---------------------------------------- 39.4/39.4 MB 28.2 MB/s eta 0:00:00\n",
      "Installing collected packages: opencv-python-headless\n",
      "Successfully installed opencv-python-headless-4.11.0.86\n"
     ]
    }
   ],
   "source": [
    "pip install opencv-python-headless"
   ]
  },
  {
   "cell_type": "code",
   "execution_count": 3,
   "metadata": {},
   "outputs": [
    {
     "ename": "ModuleNotFoundError",
     "evalue": "No module named 'keras.layers.core'",
     "output_type": "error",
     "traceback": [
      "\u001b[1;31m---------------------------------------------------------------------------\u001b[0m",
      "\u001b[1;31mModuleNotFoundError\u001b[0m                       Traceback (most recent call last)",
      "Cell \u001b[1;32mIn[3], line 9\u001b[0m\n\u001b[0;32m      7\u001b[0m \u001b[38;5;28;01mfrom\u001b[39;00m \u001b[38;5;21;01mtensorflow\u001b[39;00m \u001b[38;5;28;01mimport\u001b[39;00m keras\n\u001b[0;32m      8\u001b[0m \u001b[38;5;28;01mfrom\u001b[39;00m \u001b[38;5;21;01mtensorflow\u001b[39;00m\u001b[38;5;21;01m.\u001b[39;00m\u001b[38;5;21;01mkeras\u001b[39;00m \u001b[38;5;28;01mimport\u001b[39;00m layers, Input , losses\n\u001b[1;32m----> 9\u001b[0m \u001b[38;5;28;01mfrom\u001b[39;00m \u001b[38;5;21;01mkeras\u001b[39;00m\u001b[38;5;21;01m.\u001b[39;00m\u001b[38;5;21;01mlayers\u001b[39;00m\u001b[38;5;21;01m.\u001b[39;00m\u001b[38;5;21;01mcore\u001b[39;00m \u001b[38;5;28;01mimport\u001b[39;00m Dense , Flatten\n\u001b[0;32m     10\u001b[0m \u001b[38;5;28;01mfrom\u001b[39;00m \u001b[38;5;21;01mtensorflow\u001b[39;00m\u001b[38;5;21;01m.\u001b[39;00m\u001b[38;5;21;01mkeras\u001b[39;00m\u001b[38;5;21;01m.\u001b[39;00m\u001b[38;5;21;01mlayers\u001b[39;00m \u001b[38;5;28;01mimport\u001b[39;00m InputLayer\n\u001b[0;32m     11\u001b[0m \u001b[38;5;28;01mfrom\u001b[39;00m \u001b[38;5;21;01mtensorflow\u001b[39;00m\u001b[38;5;21;01m.\u001b[39;00m\u001b[38;5;21;01mkeras\u001b[39;00m\u001b[38;5;21;01m.\u001b[39;00m\u001b[38;5;21;01mmodels\u001b[39;00m \u001b[38;5;28;01mimport\u001b[39;00m Sequential, Model\n",
      "\u001b[1;31mModuleNotFoundError\u001b[0m: No module named 'keras.layers.core'"
     ]
    }
   ],
   "source": [
    "import pandas as pd\n",
    "import numpy as np\n",
    "import os\n",
    "import tensorflow as tf\n",
    "\n",
    "import cv2\n",
    "from tensorflow import keras\n",
    "from tensorflow.keras import layers, Input , losses\n",
    "from keras.layers.core import Dense , Flatten\n",
    "from tensorflow.keras.layers import InputLayer\n",
    "from tensorflow.keras.models import Sequential, Model\n",
    "from  matplotlib import pyplot as plt\n",
    "import matplotlib.image as mpimg\n",
    "import random\n",
    "\n",
    "%matplotlib inline\n",
    "\n"
   ]
  },
  {
   "cell_type": "code",
   "execution_count": null,
   "metadata": {},
   "outputs": [],
   "source": [
    "plt.figure(figsize=(20,20))\n",
    "\n",
    "image_print_folder=r'PATH_FOR_THE_TRAIN_SET_EOSINOPHIL'\n",
    "\n",
    "for i in range(5):\n",
    "    file_name = random.choice(os.listdir(image_print_folder))\n",
    "    image_print_path= os.path.join(image_print_folder, file_name)\n",
    "    image=mpimg.imread(image_print_path)\n",
    "    axis=plt.subplot(1,5,i+1)\n",
    "    axis.title.set_text(file_name)\n",
    "    plt.imshow(image)\n",
    "    \n",
    "IMG_WIDTH=100\n",
    "IMG_HEIGHT=100\n",
    "img_folder_path=r'TRAIN_SET_FOLDER'\n",
    "\n"
   ]
  },
  {
   "cell_type": "code",
   "execution_count": null,
   "metadata": {},
   "outputs": [],
   "source": [
    "def create_dataset(img_folder_path):\n",
    "   \n",
    "    img_name= []\n",
    "    class_name= []\n",
    "   \n",
    "    for dir1 in os.listdir(img_folder_path):\n",
    "        for file in os.listdir(os.path.join(img_folder_path, dir)):\n",
    "       \n",
    "            img_folder_path= os.path.join(img_folder_path, dir, file)\n",
    "            image= cv2.imread(img_folder_path, cv2.COLOR_BGR2RGB)\n",
    "            image= cv2.resize(image, (IMG_HEIGHT, IMG_WIDTH), interpolation = cv2.INTER_AREA)\n",
    "            image= np.array(image)\n",
    "            image= image.astype('float32')\n",
    "            image /= 255\n",
    "            img_name.append(image)\n",
    "            class_name.append(dir)\n",
    "            \n",
    "    return img_name, class_name\n",
    "    \n"
   ]
  },
  {
   "cell_type": "code",
   "execution_count": null,
   "metadata": {},
   "outputs": [],
   "source": [
    "img_data, class_name =create_dataset(r'TRAIN_SET_FOLDER')\n",
    "\n",
    "dict_map={k: v for v, k in enumerate(np.unique(class_name))}\n",
    "\n",
    "target_val = [target_dict[class_name[i]] for i in range(len(class_name))]\n",
    "tf_model=tf.keras.Sequential(\n",
    "        [\n",
    "            tf.keras.layers.InputLayer(input_shape=(IMG_HEIGHT,IMG_WIDTH, 3)),\n",
    "            tf.keras.layers.Conv2D(filters=32, kernel_size=3, strides=(2, 2), activation='relu'),\n",
    "            tf.keras.layers.Conv2D(filters=64, kernel_size=3, strides=(2, 2), activation='relu'),\n",
    "            tf.keras.layers.Flatten(),\n",
    "            tf.keras.layers.Dense(6)\n",
    "        ])\n",
    "tf_model.compile(optimizer='rmsprop', loss='sparse_categorical_crossentropy', metrics=['accuracy'])\n",
    "\n",
    "iteration = tf_model.fit(x=np.array(img_data, np.float32), y=np.array(list(map(int,target_val)), np.float32), epochs=5)"
   ]
  }
 ],
 "metadata": {
  "kernelspec": {
   "display_name": "Python 3",
   "language": "python",
   "name": "python3"
  },
  "language_info": {
   "codemirror_mode": {
    "name": "ipython",
    "version": 3
   },
   "file_extension": ".py",
   "mimetype": "text/x-python",
   "name": "python",
   "nbconvert_exporter": "python",
   "pygments_lexer": "ipython3",
   "version": "3.11.9"
  }
 },
 "nbformat": 4,
 "nbformat_minor": 2
}
