{
 "cells": [
  {
   "cell_type": "markdown",
   "id": "3a3908a6",
   "metadata": {},
   "source": [
    "# Khipus.ai\n",
    "## Neural Network from Scratch\n",
    "### Case Study: Heart Attack Analysis & Prediction Dataset\n",
    "<span>© Copyright Notice 2025, Khipus.ai - All Rights Reserved.</span>\n",
    "---\n",
    "This notebook implements a simple neural network from scratch using NumPy. We will build, train, and evaluate a basic single-layer perceptron on a heart disease dataset."
   ]
  },
  {
   "cell_type": "markdown",
   "id": "e069876c",
   "metadata": {},
   "source": [
    "About Dataset\n",
    "\n",
    "The Heart Attack Analysis & Prediction Dataset is a dataset used for research and analysis in the field of cardiovascular health. It typically contains various attributes related to an individual's health and lifestyle, along with an indicator of whether the individual experienced a heart attack or not.\n",
    "\n",
    "https://www.kaggle.com/datasets/sonialikhan/heart-attack-analysis-and-prediction-dataset"
   ]
  },
  {
   "cell_type": "markdown",
   "id": "61c6840c",
   "metadata": {},
   "source": [
    "## 1. Importing Required Packages\n",
    "We begin by importing necessary Python libraries for data processing, visualization, and model building."
   ]
  },
  {
   "cell_type": "code",
   "execution_count": 1,
   "id": "3492a6d6",
   "metadata": {},
   "outputs": [],
   "source": [
    "\n",
    "import numpy as np\n",
    "import pandas as pd\n",
    "import seaborn as sns\n",
    "import matplotlib.pyplot as plt\n",
    "from sklearn.preprocessing import StandardScaler\n",
    "from sklearn.model_selection import train_test_split\n",
    "from sklearn.metrics import confusion_matrix\n"
   ]
  },
  {
   "cell_type": "markdown",
   "id": "62491994",
   "metadata": {},
   "source": [
    "## 2. Loading and Preprocessing the Dataset\n",
    "We use the heart disease dataset to train our neural network."
   ]
  },
  {
   "cell_type": "code",
   "execution_count": 2,
   "id": "07e93bdb",
   "metadata": {},
   "outputs": [
    {
     "data": {
      "application/vnd.microsoft.datawrangler.viewer.v0+json": {
       "columns": [
        {
         "name": "index",
         "rawType": "int64",
         "type": "integer"
        },
        {
         "name": "age",
         "rawType": "int64",
         "type": "integer"
        },
        {
         "name": "sex",
         "rawType": "int64",
         "type": "integer"
        },
        {
         "name": "cp",
         "rawType": "int64",
         "type": "integer"
        },
        {
         "name": "trtbps",
         "rawType": "int64",
         "type": "integer"
        },
        {
         "name": "chol",
         "rawType": "int64",
         "type": "integer"
        },
        {
         "name": "fbs",
         "rawType": "int64",
         "type": "integer"
        },
        {
         "name": "restecg",
         "rawType": "int64",
         "type": "integer"
        },
        {
         "name": "thalachh",
         "rawType": "int64",
         "type": "integer"
        },
        {
         "name": "exng",
         "rawType": "int64",
         "type": "integer"
        },
        {
         "name": "oldpeak",
         "rawType": "float64",
         "type": "float"
        },
        {
         "name": "slp",
         "rawType": "int64",
         "type": "integer"
        },
        {
         "name": "caa",
         "rawType": "int64",
         "type": "integer"
        },
        {
         "name": "thall",
         "rawType": "int64",
         "type": "integer"
        },
        {
         "name": "output",
         "rawType": "int64",
         "type": "integer"
        }
       ],
       "conversionMethod": "pd.DataFrame",
       "ref": "731d2712-9065-4fb0-a489-241ded1b5517",
       "rows": [
        [
         "0",
         "63",
         "1",
         "3",
         "145",
         "233",
         "1",
         "0",
         "150",
         "0",
         "2.3",
         "0",
         "0",
         "1",
         "1"
        ],
        [
         "1",
         "37",
         "1",
         "2",
         "130",
         "250",
         "0",
         "1",
         "187",
         "0",
         "3.5",
         "0",
         "0",
         "2",
         "1"
        ],
        [
         "2",
         "41",
         "0",
         "1",
         "130",
         "204",
         "0",
         "0",
         "172",
         "0",
         "1.4",
         "2",
         "0",
         "2",
         "1"
        ],
        [
         "3",
         "56",
         "1",
         "1",
         "120",
         "236",
         "0",
         "1",
         "178",
         "0",
         "0.8",
         "2",
         "0",
         "2",
         "1"
        ],
        [
         "4",
         "57",
         "0",
         "0",
         "120",
         "354",
         "0",
         "1",
         "163",
         "1",
         "0.6",
         "2",
         "0",
         "2",
         "1"
        ]
       ],
       "shape": {
        "columns": 14,
        "rows": 5
       }
      },
      "text/html": [
       "<div>\n",
       "<style scoped>\n",
       "    .dataframe tbody tr th:only-of-type {\n",
       "        vertical-align: middle;\n",
       "    }\n",
       "\n",
       "    .dataframe tbody tr th {\n",
       "        vertical-align: top;\n",
       "    }\n",
       "\n",
       "    .dataframe thead th {\n",
       "        text-align: right;\n",
       "    }\n",
       "</style>\n",
       "<table border=\"1\" class=\"dataframe\">\n",
       "  <thead>\n",
       "    <tr style=\"text-align: right;\">\n",
       "      <th></th>\n",
       "      <th>age</th>\n",
       "      <th>sex</th>\n",
       "      <th>cp</th>\n",
       "      <th>trtbps</th>\n",
       "      <th>chol</th>\n",
       "      <th>fbs</th>\n",
       "      <th>restecg</th>\n",
       "      <th>thalachh</th>\n",
       "      <th>exng</th>\n",
       "      <th>oldpeak</th>\n",
       "      <th>slp</th>\n",
       "      <th>caa</th>\n",
       "      <th>thall</th>\n",
       "      <th>output</th>\n",
       "    </tr>\n",
       "  </thead>\n",
       "  <tbody>\n",
       "    <tr>\n",
       "      <th>0</th>\n",
       "      <td>63</td>\n",
       "      <td>1</td>\n",
       "      <td>3</td>\n",
       "      <td>145</td>\n",
       "      <td>233</td>\n",
       "      <td>1</td>\n",
       "      <td>0</td>\n",
       "      <td>150</td>\n",
       "      <td>0</td>\n",
       "      <td>2.3</td>\n",
       "      <td>0</td>\n",
       "      <td>0</td>\n",
       "      <td>1</td>\n",
       "      <td>1</td>\n",
       "    </tr>\n",
       "    <tr>\n",
       "      <th>1</th>\n",
       "      <td>37</td>\n",
       "      <td>1</td>\n",
       "      <td>2</td>\n",
       "      <td>130</td>\n",
       "      <td>250</td>\n",
       "      <td>0</td>\n",
       "      <td>1</td>\n",
       "      <td>187</td>\n",
       "      <td>0</td>\n",
       "      <td>3.5</td>\n",
       "      <td>0</td>\n",
       "      <td>0</td>\n",
       "      <td>2</td>\n",
       "      <td>1</td>\n",
       "    </tr>\n",
       "    <tr>\n",
       "      <th>2</th>\n",
       "      <td>41</td>\n",
       "      <td>0</td>\n",
       "      <td>1</td>\n",
       "      <td>130</td>\n",
       "      <td>204</td>\n",
       "      <td>0</td>\n",
       "      <td>0</td>\n",
       "      <td>172</td>\n",
       "      <td>0</td>\n",
       "      <td>1.4</td>\n",
       "      <td>2</td>\n",
       "      <td>0</td>\n",
       "      <td>2</td>\n",
       "      <td>1</td>\n",
       "    </tr>\n",
       "    <tr>\n",
       "      <th>3</th>\n",
       "      <td>56</td>\n",
       "      <td>1</td>\n",
       "      <td>1</td>\n",
       "      <td>120</td>\n",
       "      <td>236</td>\n",
       "      <td>0</td>\n",
       "      <td>1</td>\n",
       "      <td>178</td>\n",
       "      <td>0</td>\n",
       "      <td>0.8</td>\n",
       "      <td>2</td>\n",
       "      <td>0</td>\n",
       "      <td>2</td>\n",
       "      <td>1</td>\n",
       "    </tr>\n",
       "    <tr>\n",
       "      <th>4</th>\n",
       "      <td>57</td>\n",
       "      <td>0</td>\n",
       "      <td>0</td>\n",
       "      <td>120</td>\n",
       "      <td>354</td>\n",
       "      <td>0</td>\n",
       "      <td>1</td>\n",
       "      <td>163</td>\n",
       "      <td>1</td>\n",
       "      <td>0.6</td>\n",
       "      <td>2</td>\n",
       "      <td>0</td>\n",
       "      <td>2</td>\n",
       "      <td>1</td>\n",
       "    </tr>\n",
       "  </tbody>\n",
       "</table>\n",
       "</div>"
      ],
      "text/plain": [
       "   age  sex  cp  trtbps  chol  fbs  restecg  thalachh  exng  oldpeak  slp  \\\n",
       "0   63    1   3     145   233    1        0       150     0      2.3    0   \n",
       "1   37    1   2     130   250    0        1       187     0      3.5    0   \n",
       "2   41    0   1     130   204    0        0       172     0      1.4    2   \n",
       "3   56    1   1     120   236    0        1       178     0      0.8    2   \n",
       "4   57    0   0     120   354    0        1       163     1      0.6    2   \n",
       "\n",
       "   caa  thall  output  \n",
       "0    0      1       1  \n",
       "1    0      2       1  \n",
       "2    0      2       1  \n",
       "3    0      2       1  \n",
       "4    0      2       1  "
      ]
     },
     "execution_count": 2,
     "metadata": {},
     "output_type": "execute_result"
    }
   ],
   "source": [
    "\n",
    "# Load dataset (Assume 'heart.csv' is available)\n",
    "df = pd.read_csv('heart.csv')\n",
    "\n",
    "# Display the first few rows of the dataset\n",
    "df.head()\n"
   ]
  },
  {
   "cell_type": "markdown",
   "id": "d633085c",
   "metadata": {},
   "source": [
    "## 3. Selecting Features and Labels\n",
    "We separate the independent variables (features) from the dependent variable (target)."
   ]
  },
  {
   "cell_type": "code",
   "execution_count": null,
   "id": "5f64503c",
   "metadata": {},
   "outputs": [
    {
     "name": "stdout",
     "output_type": "stream",
     "text": [
      "X: (303, 13), y: (303,)\n"
     ]
    }
   ],
   "source": [
    "#separate independent / dependent features\n",
    "# Extract features (all columns except 'output column') and convert to numpy array\n",
    "X = np.array(df.loc[:, df.columns != 'output'])# X = independent features\n",
    "\n",
    "# Extract labels (the 'output' column) and convert to numpy array\n",
    "y = np.array(df['output'])# y = dependent feature\n",
    "\n",
    "# Print the shapes of the features and labels arrays\n",
    "print(f\"X: {X.shape}, y: {y.shape}\")\n"
   ]
  },
  {
   "cell_type": "markdown",
   "id": "8b409e15",
   "metadata": {},
   "source": [
    "## 4. Splitting Data into Training and Testing Sets\n",
    "We split the dataset into 80% training and 20% testing sets."
   ]
  },
  {
   "cell_type": "code",
   "execution_count": null,
   "id": "b3c8cc44",
   "metadata": {},
   "outputs": [],
   "source": [
    "\n",
    "# Train-test split\n",
    "X_train, X_test, y_train, y_test = train_test_split(X, y, test_size=0.2, random_state=123)# 80% training, 20% testing\n"
   ]
  },
  {
   "cell_type": "markdown",
   "id": "898b4f0f",
   "metadata": {},
   "source": [
    "## 5. Scaling Features\n",
    "To improve training performance, we scale the feature values."
   ]
  },
  {
   "cell_type": "code",
   "execution_count": null,
   "id": "faee6ed3",
   "metadata": {},
   "outputs": [],
   "source": [
    "# Standardizing the features\n",
    "scaler = StandardScaler()  # Initialize the StandardScaler\n",
    "X_train_scale = scaler.fit_transform(X_train)  # Fit the scaler on the training data and transform it\n",
    "X_test_scale = scaler.transform(X_test)  # Transform the test data using the same scaler\n"
   ]
  },
  {
   "cell_type": "markdown",
   "id": "3267468e",
   "metadata": {},
   "source": [
    "## 6. Implementing a Neural Network from Scratch\n",
    "We define a single-layer perceptron with a sigmoid activation function."
   ]
  },
  {
   "cell_type": "code",
   "execution_count": null,
   "id": "230376f5",
   "metadata": {},
   "outputs": [],
   "source": [
    "\n",
    "# Define the Neural Network class\n",
    "class NeuralNetworkFromScratch:\n",
    "    def __init__(self, LR, X_train, y_train, X_test, y_test):\n",
    "        # Initialize weights randomly with normal distribution\n",
    "        self.w = np.random.randn(X_train.shape[1])\n",
    "        # Initialize bias randomly with normal distribution\n",
    "        self.b = np.random.randn()\n",
    "        # Learning rate\n",
    "        self.LR = LR\n",
    "        # Training features\n",
    "        self.X_train = X_train\n",
    "        # Training labels\n",
    "        self.y_train = y_train\n",
    "        # Testing features\n",
    "        self.X_test = X_test\n",
    "        # Testing labels\n",
    "        self.y_test = y_test\n",
    "        # List to store training loss over iterations\n",
    "        self.L_train = []\n",
    "        # List to store testing loss over iterations\n",
    "        self.L_test = []\n",
    "        \n",
    "    def activation(self, x):\n",
    "        # Sigmoid function\n",
    "        return 1 / (1 + np.exp(-x))\n",
    "\n",
    "    def dactivation(self, x):\n",
    "        # Derivative of sigmoid function\n",
    "        return self.activation(x) * (1 - self.activation(x))\n",
    "\n",
    "    def forward(self, X):\n",
    "        # Compute the linear combination of inputs and weights\n",
    "        hidden_1 = np.dot(X, self.w) + self.b\n",
    "        # Apply the activation function\n",
    "        activate_1 = self.activation(hidden_1)\n",
    "        return activate_1\n",
    "\n",
    "    def backward(self, X, y_true):\n",
    "        # Compute the linear combination of inputs and weights\n",
    "        hidden_1 = np.dot(X, self.w) + self.b\n",
    "        # Compute the predicted output\n",
    "        y_pred = self.forward(X)\n",
    "        # Compute the gradient of the loss with respect to the predicted output\n",
    "        dL_dpred = 2 * (y_pred - y_true)\n",
    "        # Compute the gradient of the predicted output with respect to the linear combination\n",
    "        dpred_dhidden1 = self.dactivation(hidden_1)\n",
    "        # Gradient of the linear combination with respect to the bias\n",
    "        dhidden1_db = 1\n",
    "        # Gradient of the linear combination with respect to the weights\n",
    "        dhidden1_dw = X\n",
    "\n",
    "        # Compute the gradient of the loss with respect to the bias\n",
    "        dL_db = dL_dpred * dpred_dhidden1 * dhidden1_db\n",
    "        # Compute the gradient of the loss with respect to the weights\n",
    "        dL_dw = dL_dpred * dpred_dhidden1 * dhidden1_dw\n",
    "        return dL_db, dL_dw\n",
    "\n",
    "    def optimizer(self, dL_db, dL_dw):\n",
    "        # Update bias using gradient descent\n",
    "        self.b = self.b - dL_db * self.LR\n",
    "        # Update weights using gradient descent\n",
    "        self.w = self.w - dL_dw * self.LR\n",
    "\n",
    "    def train(self, ITERATIONS):\n",
    "        for i in range(ITERATIONS):\n",
    "            # Select a random training example\n",
    "            random_pos = np.random.randint(len(self.X_train))\n",
    "            # Get the true label for the selected training example\n",
    "            y_train_true = self.y_train[random_pos]\n",
    "            # Get the predicted label for the selected training example\n",
    "            y_train_pred = self.forward(self.X_train[random_pos])\n",
    "            \n",
    "            # Compute training loss (mean squared error)\n",
    "            L = np.sum(np.square(y_train_pred - y_train_true))\n",
    "            # Append the training loss to the list\n",
    "            self.L_train.append(L)\n",
    "            \n",
    "            # Compute gradients for the selected training example\n",
    "            dL_db, dL_dw = self.backward(\n",
    "                self.X_train[random_pos], self.y_train[random_pos]\n",
    "            )\n",
    "            \n",
    "            # Update weights and bias using the computed gradients\n",
    "            self.optimizer(dL_db, dL_dw)\n",
    "\n",
    "            # Compute test error (mean squared error) over the entire test set\n",
    "            L_sum = 0\n",
    "            for j in range(len(self.X_test)):\n",
    "                # Get the true label for the test example\n",
    "                y_true = self.y_test[j]\n",
    "                # Get the predicted label for the test example\n",
    "                y_pred = self.forward(self.X_test[j])\n",
    "                # Accumulate the squared error\n",
    "                L_sum += np.square(y_pred - y_true)\n",
    "            # Append the test loss to the list\n",
    "            self.L_test.append(L_sum)\n",
    "\n",
    "        return \"Training successfully finished\" # Return a message indicating successful training\n"
   ]
  },
  {
   "cell_type": "markdown",
   "id": "e66dc066",
   "metadata": {},
   "source": [
    "## 7. Training the Model\n",
    "We train the neural network using a simple gradient descent approach."
   ]
  },
  {
   "cell_type": "code",
   "execution_count": null,
   "id": "fc1011c0",
   "metadata": {},
   "outputs": [
    {
     "data": {
      "text/plain": [
       "'Training successfully finished'"
      ]
     },
     "execution_count": 14,
     "metadata": {},
     "output_type": "execute_result"
    }
   ],
   "source": [
    "\n",
    "# Hyperparameters\n",
    "LR = 0.1  # Learning rate for the neural network\n",
    "ITERATIONS = 1000  # Number of iterations for training\n",
    "\n",
    "# Create and train the model\n",
    "nn = NeuralNetworkFromScratch(\n",
    "    LR=LR,  # Set the learning rate\n",
    "    X_train=X_train_scale,  # Use the scaled training features\n",
    "    y_train=y_train,  # Use the training labels\n",
    "    X_test=X_test_scale,  # Use the scaled testing features\n",
    "    y_test=y_test  # Use the testing labels\n",
    ")\n",
    "nn.train(ITERATIONS=ITERATIONS)  # Train the neural network for the specified number of iterations\n"
   ]
  },
  {
   "cell_type": "markdown",
   "id": "6469d9e0",
   "metadata": {},
   "source": [
    "## 8. Visualizing Training Loss\n",
    "We plot the loss over training iterations to observe convergence."
   ]
  },
  {
   "cell_type": "code",
   "execution_count": 15,
   "id": "532bfe38",
   "metadata": {},
   "outputs": [
    {
     "data": {
      "image/png": "[encoded data removed]",
      "text/plain": [
       "<Figure size 432x288 with 1 Axes>"
      ]
     },
     "metadata": {
      "needs_background": "light"
     },
     "output_type": "display_data"
    }
   ],
   "source": [
    "\n",
    "# Plot loss using seaborn lineplot\n",
    "sns.lineplot(x=list(range(len(nn.L_test))), y=nn.L_test)  # Plot the test loss over iterations\n",
    "plt.xlabel(\"Iterations\")  # Set the label for the x-axis\n",
    "plt.ylabel(\"Loss\")  # Set the label for the y-axis\n",
    "plt.title(\"Loss over Training Iterations\")  # Set the title of the plot\n",
    "plt.show()  # Display the plot\n"
   ]
  },
  {
   "cell_type": "markdown",
   "id": "b4674ce0",
   "metadata": {},
   "source": [
    "## 9. Evaluating the Model\n",
    "We test the model's accuracy by making predictions on the test dataset."
   ]
  },
  {
   "cell_type": "code",
   "execution_count": null,
   "id": "ec365afd",
   "metadata": {},
   "outputs": [
    {
     "name": "stdout",
     "output_type": "stream",
     "text": [
      "Model Accuracy: 73.77%\n"
     ]
    }
   ],
   "source": [
    "\n",
    "# Model evaluation\n",
    "total = X_test_scale.shape[0]  # Get the total number of test samples\n",
    "correct = 0  # Initialize the count of correct predictions to zero\n",
    "y_preds = []  # Initialize an empty list to store predicted labels\n",
    "\n",
    "for i in range(total):  # Iterate over each test sample\n",
    "    y_true = y_test[i]  # Get the true label for the current test sample\n",
    "    y_pred = np.round(nn.forward(X_test_scale[i]))  # Predict the label using the neural network and round it to the nearest integer\n",
    "    y_preds.append(y_pred)  # Append the predicted label to the list\n",
    "    correct += 1 if y_true == y_pred else 0  # Increment the count of correct predictions if the prediction matches the true label\n",
    "\n",
    "# Calculate accuracy\n",
    "accuracy = correct / total  # Compute the accuracy as the ratio of correct predictions to the total number of test samples\n",
    "print(f\"Model Accuracy: {accuracy * 100:.2f}%\")  # Print the accuracy as a percentage\n"
   ]
  },
  {
   "cell_type": "markdown",
   "id": "4797d4d8",
   "metadata": {},
   "source": [
    "Note: The output indicates that the neural network correctly predicted about 73.77% of the test samples.\n",
    "It calculates accuracy by dividing the number of correct predictions by the total number of test samples."
   ]
  },
  {
   "cell_type": "markdown",
   "id": "cfd6e107",
   "metadata": {},
   "source": [
    "## 10. Confusion Matrix\n",
    "We compute a confusion matrix to analyze classification performance."
   ]
  },
  {
   "cell_type": "code",
   "execution_count": 10,
   "id": "656dd642",
   "metadata": {},
   "outputs": [
    {
     "name": "stdout",
     "output_type": "stream",
     "text": [
      "Confusion Matrix:\n",
      "[[23  7]\n",
      " [ 9 22]]\n"
     ]
    }
   ],
   "source": [
    "\n",
    "# Compute confusion matrix\n",
    "cm = confusion_matrix(y_true=y_test, y_pred=y_preds)\n",
    "print(\"Confusion Matrix:\")\n",
    "print(cm)\n"
   ]
  },
  {
   "cell_type": "markdown",
   "id": "2d7344bb",
   "metadata": {},
   "source": [
    "Note: The model has true negatives = 23, false positives = 7, false negatives = 9, and true positives = 22."
   ]
  },
  {
   "cell_type": "code",
   "execution_count": null,
   "id": "768cda2c",
   "metadata": {},
   "outputs": [],
   "source": []
  }
 ],
 "metadata": {
  "kernelspec": {
   "display_name": "pytorch",
   "language": "python",
   "name": "python3"
  },
  "language_info": {
   "codemirror_mode": {
    "name": "ipython",
    "version": 3
   },
   "file_extension": ".py",
   "mimetype": "text/x-python",
   "name": "python",
   "nbconvert_exporter": "python",
   "pygments_lexer": "ipython3",
   "version": "3.10.4"
  }
 },
 "nbformat": 4,
 "nbformat_minor": 5
}
