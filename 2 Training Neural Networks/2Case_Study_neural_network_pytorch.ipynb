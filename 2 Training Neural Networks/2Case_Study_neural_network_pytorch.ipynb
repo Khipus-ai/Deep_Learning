{
 "cells": [
  {
   "cell_type": "markdown",
   "metadata": {},
   "source": [
    "# Khipus.ai\n",
    "### Case Study: Heart Attack Analysis & Prediction Dataset - Create a NN with PyTorch\n",
    "<span>© Copyright Notice 2025, Khipus.ai - All Rights Reserved.</span>\n",
    "---\n",
    "This notebook implements a neural network using PyTorch to predict whether an individual experienced a heart attack. We will go through the steps of data loading, preprocessing, model definition, training, and evaluation."
   ]
  },
  {
   "cell_type": "markdown",
   "metadata": {},
   "source": [
    "## 1. Importing Required Libraries\n",
    "We start by importing the necessary libraries for data manipulation, visualization, and building our neural network."
   ]
  },
  {
   "cell_type": "code",
   "execution_count": 34,
   "metadata": {},
   "outputs": [],
   "source": [
    "import numpy as np\n",
    "import pandas as pd\n",
    "import torch\n",
    "import torch.nn as nn\n",
    "import torch.optim as optim\n",
    "from sklearn.model_selection import train_test_split\n",
    "from sklearn.preprocessing import StandardScaler\n",
    "import matplotlib.pyplot as plt\n",
    "import seaborn as sns\n",
    "from sklearn.metrics import confusion_matrix, classification_report\n"
   ]
  },
  {
   "cell_type": "markdown",
   "metadata": {},
   "source": [
    "## 2. Loading the Dataset\n",
    "We will load the heart attack dataset from a CSV file and display the first few rows to understand its structure."
   ]
  },
  {
   "cell_type": "code",
   "execution_count": 35,
   "metadata": {},
   "outputs": [
    {
     "data": {
      "application/vnd.microsoft.datawrangler.viewer.v0+json": {
       "columns": [
        {
         "name": "index",
         "rawType": "int64",
         "type": "integer"
        },
        {
         "name": "age",
         "rawType": "int64",
         "type": "integer"
        },
        {
         "name": "sex",
         "rawType": "int64",
         "type": "integer"
        },
        {
         "name": "cp",
         "rawType": "int64",
         "type": "integer"
        },
        {
         "name": "trtbps",
         "rawType": "int64",
         "type": "integer"
        },
        {
         "name": "chol",
         "rawType": "int64",
         "type": "integer"
        },
        {
         "name": "fbs",
         "rawType": "int64",
         "type": "integer"
        },
        {
         "name": "restecg",
         "rawType": "int64",
         "type": "integer"
        },
        {
         "name": "thalachh",
         "rawType": "int64",
         "type": "integer"
        },
        {
         "name": "exng",
         "rawType": "int64",
         "type": "integer"
        },
        {
         "name": "oldpeak",
         "rawType": "float64",
         "type": "float"
        },
        {
         "name": "slp",
         "rawType": "int64",
         "type": "integer"
        },
        {
         "name": "caa",
         "rawType": "int64",
         "type": "integer"
        },
        {
         "name": "thall",
         "rawType": "int64",
         "type": "integer"
        },
        {
         "name": "output",
         "rawType": "int64",
         "type": "integer"
        }
       ],
       "conversionMethod": "pd.DataFrame",
       "ref": "3b4f94e2-33bc-44fa-82be-7feaacaa3967",
       "rows": [
        [
         "0",
         "63",
         "1",
         "3",
         "145",
         "233",
         "1",
         "0",
         "150",
         "0",
         "2.3",
         "0",
         "0",
         "1",
         "1"
        ],
        [
         "1",
         "37",
         "1",
         "2",
         "130",
         "250",
         "0",
         "1",
         "187",
         "0",
         "3.5",
         "0",
         "0",
         "2",
         "1"
        ],
        [
         "2",
         "41",
         "0",
         "1",
         "130",
         "204",
         "0",
         "0",
         "172",
         "0",
         "1.4",
         "2",
         "0",
         "2",
         "1"
        ],
        [
         "3",
         "56",
         "1",
         "1",
         "120",
         "236",
         "0",
         "1",
         "178",
         "0",
         "0.8",
         "2",
         "0",
         "2",
         "1"
        ],
        [
         "4",
         "57",
         "0",
         "0",
         "120",
         "354",
         "0",
         "1",
         "163",
         "1",
         "0.6",
         "2",
         "0",
         "2",
         "1"
        ]
       ],
       "shape": {
        "columns": 14,
        "rows": 5
       }
      },
      "text/html": [
       "<div>\n",
       "<style scoped>\n",
       "    .dataframe tbody tr th:only-of-type {\n",
       "        vertical-align: middle;\n",
       "    }\n",
       "\n",
       "    .dataframe tbody tr th {\n",
       "        vertical-align: top;\n",
       "    }\n",
       "\n",
       "    .dataframe thead th {\n",
       "        text-align: right;\n",
       "    }\n",
       "</style>\n",
       "<table border=\"1\" class=\"dataframe\">\n",
       "  <thead>\n",
       "    <tr style=\"text-align: right;\">\n",
       "      <th></th>\n",
       "      <th>age</th>\n",
       "      <th>sex</th>\n",
       "      <th>cp</th>\n",
       "      <th>trtbps</th>\n",
       "      <th>chol</th>\n",
       "      <th>fbs</th>\n",
       "      <th>restecg</th>\n",
       "      <th>thalachh</th>\n",
       "      <th>exng</th>\n",
       "      <th>oldpeak</th>\n",
       "      <th>slp</th>\n",
       "      <th>caa</th>\n",
       "      <th>thall</th>\n",
       "      <th>output</th>\n",
       "    </tr>\n",
       "  </thead>\n",
       "  <tbody>\n",
       "    <tr>\n",
       "      <th>0</th>\n",
       "      <td>63</td>\n",
       "      <td>1</td>\n",
       "      <td>3</td>\n",
       "      <td>145</td>\n",
       "      <td>233</td>\n",
       "      <td>1</td>\n",
       "      <td>0</td>\n",
       "      <td>150</td>\n",
       "      <td>0</td>\n",
       "      <td>2.3</td>\n",
       "      <td>0</td>\n",
       "      <td>0</td>\n",
       "      <td>1</td>\n",
       "      <td>1</td>\n",
       "    </tr>\n",
       "    <tr>\n",
       "      <th>1</th>\n",
       "      <td>37</td>\n",
       "      <td>1</td>\n",
       "      <td>2</td>\n",
       "      <td>130</td>\n",
       "      <td>250</td>\n",
       "      <td>0</td>\n",
       "      <td>1</td>\n",
       "      <td>187</td>\n",
       "      <td>0</td>\n",
       "      <td>3.5</td>\n",
       "      <td>0</td>\n",
       "      <td>0</td>\n",
       "      <td>2</td>\n",
       "      <td>1</td>\n",
       "    </tr>\n",
       "    <tr>\n",
       "      <th>2</th>\n",
       "      <td>41</td>\n",
       "      <td>0</td>\n",
       "      <td>1</td>\n",
       "      <td>130</td>\n",
       "      <td>204</td>\n",
       "      <td>0</td>\n",
       "      <td>0</td>\n",
       "      <td>172</td>\n",
       "      <td>0</td>\n",
       "      <td>1.4</td>\n",
       "      <td>2</td>\n",
       "      <td>0</td>\n",
       "      <td>2</td>\n",
       "      <td>1</td>\n",
       "    </tr>\n",
       "    <tr>\n",
       "      <th>3</th>\n",
       "      <td>56</td>\n",
       "      <td>1</td>\n",
       "      <td>1</td>\n",
       "      <td>120</td>\n",
       "      <td>236</td>\n",
       "      <td>0</td>\n",
       "      <td>1</td>\n",
       "      <td>178</td>\n",
       "      <td>0</td>\n",
       "      <td>0.8</td>\n",
       "      <td>2</td>\n",
       "      <td>0</td>\n",
       "      <td>2</td>\n",
       "      <td>1</td>\n",
       "    </tr>\n",
       "    <tr>\n",
       "      <th>4</th>\n",
       "      <td>57</td>\n",
       "      <td>0</td>\n",
       "      <td>0</td>\n",
       "      <td>120</td>\n",
       "      <td>354</td>\n",
       "      <td>0</td>\n",
       "      <td>1</td>\n",
       "      <td>163</td>\n",
       "      <td>1</td>\n",
       "      <td>0.6</td>\n",
       "      <td>2</td>\n",
       "      <td>0</td>\n",
       "      <td>2</td>\n",
       "      <td>1</td>\n",
       "    </tr>\n",
       "  </tbody>\n",
       "</table>\n",
       "</div>"
      ],
      "text/plain": [
       "   age  sex  cp  trtbps  chol  fbs  restecg  thalachh  exng  oldpeak  slp  \\\n",
       "0   63    1   3     145   233    1        0       150     0      2.3    0   \n",
       "1   37    1   2     130   250    0        1       187     0      3.5    0   \n",
       "2   41    0   1     130   204    0        0       172     0      1.4    2   \n",
       "3   56    1   1     120   236    0        1       178     0      0.8    2   \n",
       "4   57    0   0     120   354    0        1       163     1      0.6    2   \n",
       "\n",
       "   caa  thall  output  \n",
       "0    0      1       1  \n",
       "1    0      2       1  \n",
       "2    0      2       1  \n",
       "3    0      2       1  \n",
       "4    0      2       1  "
      ]
     },
     "execution_count": 35,
     "metadata": {},
     "output_type": "execute_result"
    }
   ],
   "source": [
    "# Load the dataset\n",
    "df = pd.read_csv('heart.csv')\n",
    "# Display the first few rows of the dataset\n",
    "df.head()"
   ]
  },
  {
   "cell_type": "markdown",
   "metadata": {},
   "source": [
    "## 3. Data Preprocessing\n",
    "We will separate the features and labels, split the dataset into training and testing sets, and scale the features."
   ]
  },
  {
   "cell_type": "code",
   "execution_count": 36,
   "metadata": {},
   "outputs": [],
   "source": [
    "# Separate features and labels\n",
    "X = df.drop('output', axis=1).values  # Features - Remove the 'output' column from the dataframe and convert remaining columns into a numpy array containing all feature data.\n",
    "y = df['output'].values  # Labels - Extract the 'output' column from the dataframe as a numpy array containing the target values.\n",
    "\n",
    "# Split the dataset into training and testing sets (80% train, 20% test)\n",
    "X_train, X_test, y_train, y_test = train_test_split(X, y, test_size=0.2, random_state=42)  \n",
    "\n",
    "# train_test_split: Partition the feature array (X) and label array (y) into training and test sets.\n",
    "# test_size=0.2 means 20% of the data will be used for testing, while 80% is reserved for training.\n",
    "# random_state=42 ensures reproducibility of the split.\n",
    "\n",
    "# Scale the features\n",
    "scaler = StandardScaler()  # Initialize the StandardScaler object to standardize features by removing the mean and scaling to unit variance.\n",
    "X_train = scaler.fit_transform(X_train)  \n",
    "# Fit the scaler on the training feature data (compute mean and standard deviation) and transform the training data accordingly.\n",
    "X_test = scaler.transform(X_test)  \n",
    "# Apply the transformation to the test data using the statistics computed from the training data, ensuring consistency."
   ]
  },
  {
   "cell_type": "markdown",
   "metadata": {},
   "source": [
    "## 4. Defining the Neural Network Architecture\n",
    "We will define a simple feedforward neural network with one hidden layer."
   ]
  },
  {
   "cell_type": "code",
   "execution_count": null,
   "metadata": {},
   "outputs": [],
   "source": [
    "# Define the neural network class that inherits from torch.nn.Module\n",
    "class HeartAttackNN(nn.Module):\n",
    "    def __init__(self, input_size):  # Constructor method that initializes the NN layers; input_size specifies the number of features\n",
    "        super(HeartAttackNN, self).__init__()  # Call the parent class constructor to properly set up the module\n",
    "        self.fc1 = nn.Linear(input_size, 16)  # First layer with 16 neurons; performs a linear transformation from input dimension to a hidden layer of 16 nodes\n",
    "        self.fc2 = nn.Linear(16, 1)  # Output layer with 1 neuron; transforms the hidden layer output into a single prediction value\n",
    "       \n",
    "    def forward(self, x):  # Forward method defines how the input data flows through the network to produce an output\n",
    "        x = torch.relu(self.fc1(x))  # Pass input through first layer (fc1) and apply ReLU activation for non-linearity;  # Apply ReLU activation\n",
    "        x = torch.sigmoid(self.fc2(x))  # Apply sigmoid activation to compress the output between 0 and 1 for binary classification\n",
    "        return x  # Return the final output which is probability score for binary classification"
   ]
  },
  {
   "cell_type": "markdown",
   "metadata": {},
   "source": [
    "Hyperparameters:\n",
    "\n",
    "Width: The hidden layer has 16 neurons.\n",
    "\n",
    "Depth: The network has 2 fully connected layers (one hidden layer and one output layer)"
   ]
  },
  {
   "cell_type": "markdown",
   "metadata": {},
   "source": [
    "## 5. Training the Neural Network\n",
    "We will train the neural network using binary cross-entropy loss and the Adam optimizer.\n",
    "\n",
    "Note: The code doesn't define a batch size because it uses the entire training set for each iteration of training. Instead of loading data in mini-batches (using, for example, PyTorch's DataLoader), it feeds the whole dataset into the model at once. To incorporate mini-batch training, you'll need to create a DataLoader with a specified batch_size.\n",
    "\n",
    "batch_size = 32\n",
    "train_loader = DataLoader(train_dataset, batch_size=batch_size, shuffle=True)\n",
    "\n",
    "Hyperparameters\n",
    "\n",
    "Learning Rate: It is set to 0.001 for the Adam optimizer.\n",
    "\n",
    "Number of epochs: 100"
   ]
  },
  {
   "cell_type": "code",
   "execution_count": 38,
   "metadata": {},
   "outputs": [
    {
     "name": "stdout",
     "output_type": "stream",
     "text": [
      "Epoch [10/100], Train Loss: 0.6794, Validation Loss: 0.6692\n",
      "Epoch [20/100], Train Loss: 0.6554, Validation Loss: 0.6462\n",
      "Epoch [30/100], Train Loss: 0.6317, Validation Loss: 0.6242\n",
      "Epoch [40/100], Train Loss: 0.6081, Validation Loss: 0.6023\n",
      "Epoch [50/100], Train Loss: 0.5843, Validation Loss: 0.5800\n",
      "Epoch [60/100], Train Loss: 0.5605, Validation Loss: 0.5583\n",
      "Epoch [70/100], Train Loss: 0.5369, Validation Loss: 0.5381\n",
      "Epoch [80/100], Train Loss: 0.5136, Validation Loss: 0.5202\n",
      "Epoch [90/100], Train Loss: 0.4912, Validation Loss: 0.5045\n",
      "Epoch [100/100], Train Loss: 0.4700, Validation Loss: 0.4909\n"
     ]
    }
   ],
   "source": [
    "# Split the training data further into a training set and a validation set.\n",
    "# We use 10% of the current training data as the validation set.\n",
    "# The random_state ensures that the split is reproducible.\n",
    "X_train, X_val, y_train, y_val = train_test_split(X_train, y_train, test_size=0.1, random_state=42)\n",
    "\n",
    "# Convert the numpy arrays for training features to a PyTorch FloatTensor.\n",
    "X_train_tensor = torch.FloatTensor(X_train)\n",
    "# Convert the training labels from numpy array to a PyTorch FloatTensor and reshape to a column vector.\n",
    "y_train_tensor = torch.FloatTensor(y_train).view(-1, 1)\n",
    "# Convert the numpy arrays for validation features to a PyTorch FloatTensor.\n",
    "X_val_tensor = torch.FloatTensor(X_val)\n",
    "# Convert the validation labels from numpy array to a PyTorch FloatTensor and reshape to a column vector.\n",
    "y_val_tensor = torch.FloatTensor(y_val).view(-1, 1)\n",
    "\n",
    "# Convert the test features to a PyTorch FloatTensor.\n",
    "X_test_tensor = torch.FloatTensor(X_test)\n",
    "# Convert the test labels to a PyTorch FloatTensor and reshape to a column vector.\n",
    "y_test_tensor = torch.FloatTensor(y_test).view(-1, 1)\n",
    "\n",
    "# Initialize the neural network model with the number of input features.\n",
    "model = HeartAttackNN(input_size=X_train.shape[1])\n",
    "# Define the loss function as Binary Cross Entropy Loss for binary classification.\n",
    "criterion = nn.BCELoss()  \n",
    "# Initialize the Adam optimizer with the model parameters and a learning rate of 0.001.\n",
    "optimizer = optim.Adam(model.parameters(), lr=0.001)  \n",
    "\n",
    "# Define the number of epochs to train for.\n",
    "num_epochs = 100\n",
    "\n",
    "# Training loop: iterate over all epochs.\n",
    "for epoch in range(num_epochs):\n",
    "    # Set the model to training mode to enable behaviors such as dropout (if any).\n",
    "    model.train()\n",
    "    \n",
    "    # Zero the gradients before the backward pass.\n",
    "    optimizer.zero_grad()\n",
    "    \n",
    "    # Perform a forward pass using the training tensor and obtain the model outputs.\n",
    "    train_outputs = model(X_train_tensor)\n",
    "    \n",
    "    # Compute the training loss by comparing the predicted outputs with the true labels.\n",
    "    train_loss = criterion(train_outputs, y_train_tensor)\n",
    "    \n",
    "    # Perform a backward pass to compute the gradients.\n",
    "    train_loss.backward()\n",
    "    \n",
    "    # Update the model parameters based on the computed gradients.\n",
    "    optimizer.step()\n",
    "\n",
    "    # Set the model to evaluation mode for validation (turns off dropout, etc.).\n",
    "    model.eval()\n",
    "    # Perform validation without computing gradients to save memory.\n",
    "    with torch.no_grad():\n",
    "        # Forward pass on the validation data to obtain predictions.\n",
    "        val_outputs = model(X_val_tensor)\n",
    "        # Compute the validation loss by comparing predictions with validation labels.\n",
    "        val_loss = criterion(val_outputs, y_val_tensor)\n",
    "\n",
    "    # Every 10 epochs, print the current training and validation loss.\n",
    "    if (epoch + 1) % 10 == 0:\n",
    "        print(f'Epoch [{epoch+1}/{num_epochs}], Train Loss: {train_loss.item():.4f}, Validation Loss: {val_loss.item():.4f}')"
   ]
  },
  {
   "cell_type": "markdown",
   "metadata": {},
   "source": [
    "## 6. Evaluating the Model\n",
    "After training, we will evaluate the model's performance on the test set."
   ]
  },
  {
   "cell_type": "code",
   "execution_count": 39,
   "metadata": {},
   "outputs": [
    {
     "name": "stdout",
     "output_type": "stream",
     "text": [
      "              precision    recall  f1-score   support\n",
      "\n",
      "         0.0       0.81      0.86      0.83        29\n",
      "         1.0       0.87      0.81      0.84        32\n",
      "\n",
      "    accuracy                           0.84        61\n",
      "   macro avg       0.84      0.84      0.84        61\n",
      "weighted avg       0.84      0.84      0.84        61\n",
      "\n"
     ]
    },
    {
     "data": {
      "image/png": "[encoded data removed]",
      "text/plain": [
       "<Figure size 432x288 with 2 Axes>"
      ]
     },
     "metadata": {
      "needs_background": "light"
     },
     "output_type": "display_data"
    }
   ],
   "source": [
    "# Set the model to evaluation mode \n",
    "# - this ensures that layers like dropout and batch normalization behave accordingly during inference. \n",
    "model.eval()\n",
    "with torch.no_grad():  # Disable gradient calculation to improve efficiency and reduce memory usage during inference, since gradients are not needed. \n",
    "    test_outputs = model(X_test_tensor)  # Forward pass on test data: pass the standardized test tensor through the model to obtain predicted probabilities. \n",
    "    predicted = (test_outputs > 0.5).float()  # Convert probabilities to binary predictions using a threshold of 0.5, then cast the boolean results to float type. \n",
    "\n",
    "# Print classification report\n",
    "print(classification_report(y_test_tensor, predicted))\n",
    "\n",
    "# Confusion matrix\n",
    "conf_matrix = confusion_matrix(y_test_tensor, predicted)\n",
    "sns.heatmap(conf_matrix, annot=True, fmt='d')\n",
    "plt.title('Confusion Matrix')\n",
    "plt.xlabel('Predicted')\n",
    "plt.ylabel('Actual')\n",
    "plt.show()"
   ]
  },
  {
   "cell_type": "code",
   "execution_count": 40,
   "metadata": {},
   "outputs": [
    {
     "name": "stdout",
     "output_type": "stream",
     "text": [
      "Test Accuracy: 0.8360655737704918\n"
     ]
    }
   ],
   "source": [
    "# Calculate model accuracy\n",
    "# Compare the predicted labels with the true test labels for each sample,\n",
    "# resulting in a tensor of boolean values (True for correct predictions, False for incorrect ones).\n",
    "# Then, sum these boolean values (with True counted as 1) to obtain the total number of correct predictions.\n",
    "# Finally, convert the resulting tensor to a Python number using .item().\n",
    "correct = (predicted == y_test_tensor).sum().item()\n",
    "\n",
    "# Retrieve the total number of test samples by getting the size of the first dimension of the tensor.\n",
    "total = y_test_tensor.size(0)\n",
    "\n",
    "# Calculate the accuracy by dividing the total number of correct predictions by the total number of samples.\n",
    "accuracy = correct / total\n",
    "\n",
    "# Output the computed test accuracy to the console.\n",
    "print(\"Test Accuracy:\", accuracy)"
   ]
  }
 ],
 "metadata": {
  "kernelspec": {
   "display_name": "pytorch",
   "language": "python",
   "name": "python3"
  },
  "language_info": {
   "codemirror_mode": {
    "name": "ipython",
    "version": 3
   },
   "file_extension": ".py",
   "mimetype": "text/x-python",
   "name": "python",
   "nbconvert_exporter": "python",
   "pygments_lexer": "ipython3",
   "version": "3.10.4"
  }
 },
 "nbformat": 4,
 "nbformat_minor": 4
}
