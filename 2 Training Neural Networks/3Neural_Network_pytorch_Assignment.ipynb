{
 "cells": [
  {
   "cell_type": "markdown",
   "metadata": {},
   "source": [
    "# Khipus.ai\n",
    "## Neural Network from Scratch\n",
    "### Assignment 3: Diabetes prediction - Create a neural network with PyTorch\n",
    "### Name: (add your name)\n",
    "<span>© Copyright Notice 2025, Khipus.ai - All Rights Reserved.</span>\n",
    "---\n",
    "This notebook implements a neural network using PyTorch to predict whether an individual is likely to develop diabetes. We will cover data loading, preprocessing, model definition, training, and evaluation."
   ]
  },
  {
   "cell_type": "markdown",
   "metadata": {},
   "source": [
    "### About Dataset\n",
    "\n",
    "The Diabetes prediction dataset is a collection of medical and demographic data from patients, along with their diabetes status (positive or negative). The data includes features such as age, gender, body mass index (BMI), hypertension, heart disease, smoking history, HbA1c level, and blood glucose level. This dataset can be used to build machine learning models to predict diabetes in patients based on their medical history and demographic information. This can be useful for healthcare professionals in identifying patients who may be at risk of developing diabetes and in developing personalized treatment plans. Additionally, the dataset can be used by researchers to explore the relationships between various medical and demographic factors and the likelihood of developing diabetes.\n",
    "\n",
    "https://www.kaggle.com/datasets/iammustafatz/diabetes-prediction-dataset"
   ]
  },
  {
   "cell_type": "markdown",
   "metadata": {},
   "source": [
    "## 1. Importing Required Libraries\n",
    "We start by importing the necessary libraries for data manipulation, visualization, and building our neural network."
   ]
  },
  {
   "cell_type": "code",
   "execution_count": 1,
   "metadata": {},
   "outputs": [
    {
     "name": "stderr",
     "output_type": "stream",
     "text": [
      "c:\\Users\\sanikj\\AppData\\Local\\anaconda3\\envs\\pytorch\\lib\\site-packages\\tqdm\\auto.py:22: TqdmWarning: IProgress not found. Please update jupyter and ipywidgets. See https://ipywidgets.readthedocs.io/en/stable/user_install.html\n",
      "  from .autonotebook import tqdm as notebook_tqdm\n"
     ]
    }
   ],
   "source": [
    "import numpy as np\n",
    "import pandas as pd\n",
    "import torch\n",
    "import torch.nn as nn\n",
    "import torch.optim as optim\n",
    "from sklearn.model_selection import train_test_split\n",
    "from sklearn.preprocessing import StandardScaler\n",
    "import matplotlib.pyplot as plt\n",
    "import seaborn as sns\n",
    "from sklearn.metrics import confusion_matrix, classification_report\n"
   ]
  },
  {
   "cell_type": "markdown",
   "metadata": {},
   "source": [
    "## 2. Loading the Dataset\n",
    "We will load the diabetes_prediction_dataset.csv file and display the first few rows to understand its structure."
   ]
  },
  {
   "cell_type": "code",
   "execution_count": 2,
   "metadata": {},
   "outputs": [
    {
     "data": {
      "application/vnd.microsoft.datawrangler.viewer.v0+json": {
       "columns": [
        {
         "name": "index",
         "rawType": "int64",
         "type": "integer"
        },
        {
         "name": "gender",
         "rawType": "object",
         "type": "string"
        },
        {
         "name": "age",
         "rawType": "float64",
         "type": "float"
        },
        {
         "name": "hypertension",
         "rawType": "int64",
         "type": "integer"
        },
        {
         "name": "heart_disease",
         "rawType": "int64",
         "type": "integer"
        },
        {
         "name": "smoking_history",
         "rawType": "object",
         "type": "string"
        },
        {
         "name": "bmi",
         "rawType": "float64",
         "type": "float"
        },
        {
         "name": "HbA1c_level",
         "rawType": "float64",
         "type": "float"
        },
        {
         "name": "blood_glucose_level",
         "rawType": "int64",
         "type": "integer"
        },
        {
         "name": "diabetes",
         "rawType": "int64",
         "type": "integer"
        }
       ],
       "conversionMethod": "pd.DataFrame",
       "ref": "01218477-7a16-468b-b03e-257b3ac070ab",
       "rows": [
        [
         "0",
         "Female",
         "80.0",
         "0",
         "1",
         "never",
         "25.19",
         "6.6",
         "140",
         "0"
        ],
        [
         "1",
         "Female",
         "54.0",
         "0",
         "0",
         "No Info",
         "27.32",
         "6.6",
         "80",
         "0"
        ],
        [
         "2",
         "Male",
         "28.0",
         "0",
         "0",
         "never",
         "27.32",
         "5.7",
         "158",
         "0"
        ],
        [
         "3",
         "Female",
         "36.0",
         "0",
         "0",
         "current",
         "23.45",
         "5.0",
         "155",
         "0"
        ],
        [
         "4",
         "Male",
         "76.0",
         "1",
         "1",
         "current",
         "20.14",
         "4.8",
         "155",
         "0"
        ]
       ],
       "shape": {
        "columns": 9,
        "rows": 5
       }
      },
      "text/html": [
       "<div>\n",
       "<style scoped>\n",
       "    .dataframe tbody tr th:only-of-type {\n",
       "        vertical-align: middle;\n",
       "    }\n",
       "\n",
       "    .dataframe tbody tr th {\n",
       "        vertical-align: top;\n",
       "    }\n",
       "\n",
       "    .dataframe thead th {\n",
       "        text-align: right;\n",
       "    }\n",
       "</style>\n",
       "<table border=\"1\" class=\"dataframe\">\n",
       "  <thead>\n",
       "    <tr style=\"text-align: right;\">\n",
       "      <th></th>\n",
       "      <th>gender</th>\n",
       "      <th>age</th>\n",
       "      <th>hypertension</th>\n",
       "      <th>heart_disease</th>\n",
       "      <th>smoking_history</th>\n",
       "      <th>bmi</th>\n",
       "      <th>HbA1c_level</th>\n",
       "      <th>blood_glucose_level</th>\n",
       "      <th>diabetes</th>\n",
       "    </tr>\n",
       "  </thead>\n",
       "  <tbody>\n",
       "    <tr>\n",
       "      <th>0</th>\n",
       "      <td>Female</td>\n",
       "      <td>80.0</td>\n",
       "      <td>0</td>\n",
       "      <td>1</td>\n",
       "      <td>never</td>\n",
       "      <td>25.19</td>\n",
       "      <td>6.6</td>\n",
       "      <td>140</td>\n",
       "      <td>0</td>\n",
       "    </tr>\n",
       "    <tr>\n",
       "      <th>1</th>\n",
       "      <td>Female</td>\n",
       "      <td>54.0</td>\n",
       "      <td>0</td>\n",
       "      <td>0</td>\n",
       "      <td>No Info</td>\n",
       "      <td>27.32</td>\n",
       "      <td>6.6</td>\n",
       "      <td>80</td>\n",
       "      <td>0</td>\n",
       "    </tr>\n",
       "    <tr>\n",
       "      <th>2</th>\n",
       "      <td>Male</td>\n",
       "      <td>28.0</td>\n",
       "      <td>0</td>\n",
       "      <td>0</td>\n",
       "      <td>never</td>\n",
       "      <td>27.32</td>\n",
       "      <td>5.7</td>\n",
       "      <td>158</td>\n",
       "      <td>0</td>\n",
       "    </tr>\n",
       "    <tr>\n",
       "      <th>3</th>\n",
       "      <td>Female</td>\n",
       "      <td>36.0</td>\n",
       "      <td>0</td>\n",
       "      <td>0</td>\n",
       "      <td>current</td>\n",
       "      <td>23.45</td>\n",
       "      <td>5.0</td>\n",
       "      <td>155</td>\n",
       "      <td>0</td>\n",
       "    </tr>\n",
       "    <tr>\n",
       "      <th>4</th>\n",
       "      <td>Male</td>\n",
       "      <td>76.0</td>\n",
       "      <td>1</td>\n",
       "      <td>1</td>\n",
       "      <td>current</td>\n",
       "      <td>20.14</td>\n",
       "      <td>4.8</td>\n",
       "      <td>155</td>\n",
       "      <td>0</td>\n",
       "    </tr>\n",
       "  </tbody>\n",
       "</table>\n",
       "</div>"
      ],
      "text/plain": [
       "   gender   age  hypertension  heart_disease smoking_history    bmi  \\\n",
       "0  Female  80.0             0              1           never  25.19   \n",
       "1  Female  54.0             0              0         No Info  27.32   \n",
       "2    Male  28.0             0              0           never  27.32   \n",
       "3  Female  36.0             0              0         current  23.45   \n",
       "4    Male  76.0             1              1         current  20.14   \n",
       "\n",
       "   HbA1c_level  blood_glucose_level  diabetes  \n",
       "0          6.6                  140         0  \n",
       "1          6.6                   80         0  \n",
       "2          5.7                  158         0  \n",
       "3          5.0                  155         0  \n",
       "4          4.8                  155         0  "
      ]
     },
     "execution_count": 2,
     "metadata": {},
     "output_type": "execute_result"
    }
   ],
   "source": [
    "# Load the dataset\n",
    "#Your code here\n",
    "df = pd.read_csv('diabetes_prediction_dataset.csv')\n",
    "# Display the first few rows of the dataset\n",
    "df.head()"
   ]
  },
  {
   "cell_type": "markdown",
   "metadata": {},
   "source": [
    "## 3. Data Preprocessing"
   ]
  },
  {
   "cell_type": "code",
   "execution_count": 3,
   "metadata": {},
   "outputs": [],
   "source": [
    "# Encode categorical features and handle missing values\n",
    "# Leave this code as is\n",
    "df['gender'] = df['gender'].map({'Male': 1, 'Female': 0}).fillna(0)\n",
    "df['smoking_history'] = df['smoking_history'].map({'never': 0, 'No Info': 1, 'current': 2, 'former': 3}).fillna(0)"
   ]
  },
  {
   "cell_type": "markdown",
   "metadata": {},
   "source": [
    "We will separate the features and labels, split the dataset into training and testing sets, and scale the features."
   ]
  },
  {
   "cell_type": "code",
   "execution_count": 4,
   "metadata": {},
   "outputs": [],
   "source": [
    "# Separate features and labels\n",
    "#Your code here\n",
    "X = df.drop('diabetes', axis=1).values  # Features - Remove the 'diabetes' column from the dataframe and convert remaining columns into a numpy array containing all feature data.\n",
    "y = df['diabetes'].values  # Labels - Extract the 'diabetes' column from the dataframe as a numpy array containing the target values.\n",
    "\n",
    "# Split the dataset into training and testing sets (80% train, 20% test)\n",
    "X_train, X_test, y_train, y_test = train_test_split(X, y, test_size=0.2, random_state=42)  \n",
    "# train_test_split: Partition the feature array (X) and label array (y) into training and test sets.\n",
    "# test_size=0.2 means 20% of the data will be used for testing, while 80% is reserved for training.\n",
    "# random_state=42 ensures reproducibility of the split.\n",
    "\n",
    "# Scale the features\n",
    "scaler = StandardScaler()  # Initialize the StandardScaler object to standardize features by removing the mean and scaling to unit variance.\n",
    "X_train = scaler.fit_transform(X_train)  \n",
    "# Fit the scaler on the training feature data (compute mean and standard deviation) and transform the training data accordingly.\n",
    "X_test = scaler.transform(X_test)  \n",
    "# Apply the transformation to the test data using the statistics computed from the training data, ensuring consistency."
   ]
  },
  {
   "cell_type": "markdown",
   "metadata": {},
   "source": [
    "## 4. Defining the Neural Network Architecture\n",
    "We will define a simple feedforward neural network with one hidden layer."
   ]
  },
  {
   "cell_type": "code",
   "execution_count": 5,
   "metadata": {},
   "outputs": [],
   "source": [
    "# Define the neural network class that inherits from torch.nn.Module\n",
    "#Your code here\n",
    "class diabetesNN(nn.Module):\n",
    "    def __init__(self, input_size):  # Constructor method that initializes the NN layers; input_size specifies the number of features\n",
    "        super(diabetesNN, self).__init__()  # Call the parent class constructor to properly set up the module\n",
    "        self.fc1 = nn.Linear(input_size, 16)  # First layer with 16 neurons; performs a linear transformation from input dimension to a hidden layer of 16 nodes\n",
    "        self.fc2 = nn.Linear(16, 1)  # output layer with 1 neuron; transforms the hidden layer output into a single prediction value\n",
    "        self.sigmoid = nn.Sigmoid()  # Sigmoid activation for binary classification; squashes the output between 0 and 1\n",
    "\n",
    "    def forward(self, x):  # Forward method defines how the input data flows through the network to produce an output\n",
    "        x = torch.relu(self.fc1(x))  # Pass input through first layer (fc1) and apply ReLU activation for non-linearity; Original comment: # Apply ReLU activation\n",
    "        x = self.sigmoid(self.fc2(x))  # Pass the activated output through second layer (fc2) and then apply sigmoid activation; Original comment: # Apply sigmoid activation\n",
    "        return x  # Return the final output which is probability score for binary classification"
   ]
  },
  {
   "cell_type": "markdown",
   "metadata": {},
   "source": [
    "## 5. Training the Neural Network\n",
    "We will train the neural network using binary cross-entropy loss and the Adam optimizer."
   ]
  },
  {
   "cell_type": "code",
   "execution_count": 6,
   "metadata": {},
   "outputs": [
    {
     "name": "stdout",
     "output_type": "stream",
     "text": [
      "Epoch [10/100], Loss: 0.7240\n",
      "Epoch [20/100], Loss: 0.6947\n",
      "Epoch [30/100], Loss: 0.6671\n",
      "Epoch [40/100], Loss: 0.6410\n",
      "Epoch [50/100], Loss: 0.6161\n",
      "Epoch [60/100], Loss: 0.5920\n",
      "Epoch [70/100], Loss: 0.5684\n",
      "Epoch [80/100], Loss: 0.5451\n",
      "Epoch [90/100], Loss: 0.5221\n",
      "Epoch [100/100], Loss: 0.4993\n"
     ]
    }
   ],
   "source": [
    "# Convert data to PyTorch tensors\n",
    "#Your code here\n",
    "X_train_tensor = torch.FloatTensor(X_train)\n",
    "y_train_tensor = torch.FloatTensor(y_train).view(-1, 1)\n",
    "X_test_tensor = torch.FloatTensor(X_test)\n",
    "y_test_tensor = torch.FloatTensor(y_test).view(-1, 1)\n",
    "\n",
    "# Initialize the model, loss function, and optimizer\n",
    "model = diabetesNN(input_size=X_train.shape[1])\n",
    "criterion = nn.BCELoss()  # Binary Cross Entropy Loss\n",
    "optimizer = optim.Adam(model.parameters(), lr=0.001)  # Adam optimizer\n",
    "\n",
    "# Training loop\n",
    "num_epochs = 100\n",
    "for epoch in range(num_epochs):\n",
    "    model.train()  # Set the model to training mode\n",
    "    optimizer.zero_grad()  # Zero the gradients\n",
    "    outputs = model(X_train_tensor)  # Forward pass\n",
    "    loss = criterion(outputs, y_train_tensor)  # Compute loss\n",
    "    loss.backward()  # Backward pass\n",
    "    optimizer.step()  # Update weights\n",
    "    if (epoch+1) % 10 == 0:\n",
    "        print(f'Epoch [{epoch+1}/{num_epochs}], Loss: {loss.item():.4f}')"
   ]
  },
  {
   "cell_type": "markdown",
   "metadata": {},
   "source": [
    "## 6. Evaluating the Model\n",
    "After training, we will evaluate the model's performance on the test set."
   ]
  },
  {
   "cell_type": "code",
   "execution_count": 7,
   "metadata": {},
   "outputs": [
    {
     "name": "stdout",
     "output_type": "stream",
     "text": [
      "              precision    recall  f1-score   support\n",
      "\n",
      "         0.0       0.92      0.99      0.95     18292\n",
      "         1.0       0.46      0.12      0.19      1708\n",
      "\n",
      "    accuracy                           0.91     20000\n",
      "   macro avg       0.69      0.55      0.57     20000\n",
      "weighted avg       0.88      0.91      0.89     20000\n",
      "\n"
     ]
    },
    {
     "data": {
      "image/png": "[encoded data removed]",
      "text/plain": [
       "<Figure size 432x288 with 2 Axes>"
      ]
     },
     "metadata": {
      "needs_background": "light"
     },
     "output_type": "display_data"
    }
   ],
   "source": [
    "# Set the model to evaluation mode \n",
    "# this ensures that layers like dropout and batch normalization behave accordingly during inference. \n",
    "# YOUR CODE HERE\n",
    "model.eval()\n",
    "with torch.no_grad():  # Disable gradient calculation to improve efficiency and reduce memory usage during inference, since gradients are not needed. \n",
    "    test_outputs = model(X_test_tensor)  # Forward pass on test data: pass the standardized test tensor through the model to obtain predicted probabilities. \n",
    "    predicted = (test_outputs > 0.5).float()  # Convert probabilities to binary predictions using a threshold of 0.5, then cast the boolean results to float type. \n",
    "\n",
    "# Print classification report\n",
    "print(classification_report(y_test_tensor, predicted))\n",
    "\n",
    "# Confusion matrix\n",
    "conf_matrix = confusion_matrix(y_test_tensor, predicted)\n",
    "sns.heatmap(conf_matrix, annot=True, fmt='d')\n",
    "plt.title('Confusion Matrix')\n",
    "plt.xlabel('Predicted')\n",
    "plt.ylabel('Actual')\n",
    "plt.show()"
   ]
  },
  {
   "cell_type": "code",
   "execution_count": 8,
   "metadata": {},
   "outputs": [
    {
     "name": "stdout",
     "output_type": "stream",
     "text": [
      "Test Accuracy: 0.9127\n"
     ]
    }
   ],
   "source": [
    "# Calculate model accuracy\n",
    "# Compare the predicted labels with the true test labels for each sample,\n",
    "# resulting in a tensor of boolean values (True for correct predictions, False for incorrect ones).\n",
    "# Then, sum these boolean values (with True counted as 1) to obtain the total number of correct predictions.\n",
    "# Finally, convert the resulting tensor to a Python number using .item().\n",
    "# YOUR CODE HERE\n",
    "correct = (predicted == y_test_tensor).sum().item()\n",
    "\n",
    "# Retrieve the total number of test samples by getting the size of the first dimension of the tensor.\n",
    "total = y_test_tensor.size(0)\n",
    "\n",
    "# Calculate the accuracy by dividing the total number of correct predictions by the total number of samples.\n",
    "accuracy = correct / total\n",
    "\n",
    "# Output the computed test accuracy to the console.\n",
    "print(\"Test Accuracy:\", accuracy)"
   ]
  }
 ],
 "metadata": {
  "kernelspec": {
   "display_name": "pytorch",
   "language": "python",
   "name": "python3"
  },
  "language_info": {
   "codemirror_mode": {
    "name": "ipython",
    "version": 3
   },
   "file_extension": ".py",
   "mimetype": "text/x-python",
   "name": "python",
   "nbconvert_exporter": "python",
   "pygments_lexer": "ipython3",
   "version": "3.10.4"
  }
 },
 "nbformat": 4,
 "nbformat_minor": 4
}
